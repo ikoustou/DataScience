{
 "cells": [
  {
   "cell_type": "code",
   "execution_count": 11,
   "metadata": {
    "collapsed": true
   },
   "outputs": [],
   "source": [
    "import seaborn as sns\n",
    "import numpy as np\n",
    "%matplotlib inline "
   ]
  },
  {
   "cell_type": "markdown",
   "metadata": {
    "collapsed": true
   },
   "source": [
    "We are going to use data offered from gov.uk regarding sales volume of properties in UK. The link is\n",
    "http://publicdata.landregistry.gov.uk/market-trend-data/house-price-index-data/Sales-2017-12.csv?utm_medium=GOV.UK&utm_source=datadownload&utm_campaign=sales&utm_term=9.30_13_02_18"
   ]
  },
  {
   "cell_type": "code",
   "execution_count": 12,
   "metadata": {
    "collapsed": true
   },
   "outputs": [],
   "source": [
    "import pandas as pd"
   ]
  },
  {
   "cell_type": "code",
   "execution_count": 14,
   "metadata": {},
   "outputs": [],
   "source": [
    "df = pd.read_csv('Sales-2017-12.csv')"
   ]
  },
  {
   "cell_type": "code",
   "execution_count": 15,
   "metadata": {},
   "outputs": [
    {
     "data": {
      "text/html": [
       "<div>\n",
       "<style>\n",
       "    .dataframe thead tr:only-child th {\n",
       "        text-align: right;\n",
       "    }\n",
       "\n",
       "    .dataframe thead th {\n",
       "        text-align: left;\n",
       "    }\n",
       "\n",
       "    .dataframe tbody tr th {\n",
       "        vertical-align: top;\n",
       "    }\n",
       "</style>\n",
       "<table border=\"1\" class=\"dataframe\">\n",
       "  <thead>\n",
       "    <tr style=\"text-align: right;\">\n",
       "      <th></th>\n",
       "      <th>Date</th>\n",
       "      <th>Region_Name</th>\n",
       "      <th>Area_Code</th>\n",
       "      <th>Sales_Volume</th>\n",
       "    </tr>\n",
       "  </thead>\n",
       "  <tbody>\n",
       "    <tr>\n",
       "      <th>0</th>\n",
       "      <td>1995-01-01</td>\n",
       "      <td>England</td>\n",
       "      <td>E92000001</td>\n",
       "      <td>47639</td>\n",
       "    </tr>\n",
       "    <tr>\n",
       "      <th>1</th>\n",
       "      <td>1995-01-01</td>\n",
       "      <td>Wales</td>\n",
       "      <td>W92000004</td>\n",
       "      <td>1991</td>\n",
       "    </tr>\n",
       "    <tr>\n",
       "      <th>2</th>\n",
       "      <td>1995-01-01</td>\n",
       "      <td>Inner London</td>\n",
       "      <td>E13000001</td>\n",
       "      <td>2890</td>\n",
       "    </tr>\n",
       "    <tr>\n",
       "      <th>3</th>\n",
       "      <td>1995-01-01</td>\n",
       "      <td>Outer London</td>\n",
       "      <td>E13000002</td>\n",
       "      <td>4616</td>\n",
       "    </tr>\n",
       "    <tr>\n",
       "      <th>4</th>\n",
       "      <td>1995-01-01</td>\n",
       "      <td>London</td>\n",
       "      <td>E12000007</td>\n",
       "      <td>7506</td>\n",
       "    </tr>\n",
       "  </tbody>\n",
       "</table>\n",
       "</div>"
      ],
      "text/plain": [
       "         Date   Region_Name  Area_Code  Sales_Volume\n",
       "0  1995-01-01       England  E92000001         47639\n",
       "1  1995-01-01         Wales  W92000004          1991\n",
       "2  1995-01-01  Inner London  E13000001          2890\n",
       "3  1995-01-01  Outer London  E13000002          4616\n",
       "4  1995-01-01        London  E12000007          7506"
      ]
     },
     "execution_count": 15,
     "metadata": {},
     "output_type": "execute_result"
    }
   ],
   "source": [
    "df.head()"
   ]
  },
  {
   "cell_type": "markdown",
   "metadata": {},
   "source": [
    "Find the sales for Reading"
   ]
  },
  {
   "cell_type": "code",
   "execution_count": 19,
   "metadata": {
    "collapsed": true
   },
   "outputs": [],
   "source": [
    "df_R = df[df['Region_Name']=='Reading']"
   ]
  },
  {
   "cell_type": "code",
   "execution_count": 20,
   "metadata": {},
   "outputs": [
    {
     "name": "stdout",
     "output_type": "stream",
     "text": [
      "<class 'pandas.core.frame.DataFrame'>\n",
      "Int64Index: 274 entries, 380 to 115556\n",
      "Data columns (total 4 columns):\n",
      "Date            274 non-null object\n",
      "Region_Name     274 non-null object\n",
      "Area_Code       274 non-null object\n",
      "Sales_Volume    274 non-null int64\n",
      "dtypes: int64(1), object(3)\n",
      "memory usage: 10.7+ KB\n"
     ]
    }
   ],
   "source": [
    "df_R.info()  #274 rows"
   ]
  },
  {
   "cell_type": "code",
   "execution_count": 21,
   "metadata": {},
   "outputs": [
    {
     "data": {
      "text/html": [
       "<div>\n",
       "<style>\n",
       "    .dataframe thead tr:only-child th {\n",
       "        text-align: right;\n",
       "    }\n",
       "\n",
       "    .dataframe thead th {\n",
       "        text-align: left;\n",
       "    }\n",
       "\n",
       "    .dataframe tbody tr th {\n",
       "        vertical-align: top;\n",
       "    }\n",
       "</style>\n",
       "<table border=\"1\" class=\"dataframe\">\n",
       "  <thead>\n",
       "    <tr style=\"text-align: right;\">\n",
       "      <th></th>\n",
       "      <th>Date</th>\n",
       "      <th>Region_Name</th>\n",
       "      <th>Area_Code</th>\n",
       "      <th>Sales_Volume</th>\n",
       "    </tr>\n",
       "  </thead>\n",
       "  <tbody>\n",
       "    <tr>\n",
       "      <th>380</th>\n",
       "      <td>1995-01-01</td>\n",
       "      <td>Reading</td>\n",
       "      <td>E06000038</td>\n",
       "      <td>137</td>\n",
       "    </tr>\n",
       "    <tr>\n",
       "      <th>719</th>\n",
       "      <td>1995-02-01</td>\n",
       "      <td>Reading</td>\n",
       "      <td>E06000038</td>\n",
       "      <td>161</td>\n",
       "    </tr>\n",
       "    <tr>\n",
       "      <th>1169</th>\n",
       "      <td>1995-03-01</td>\n",
       "      <td>Reading</td>\n",
       "      <td>E06000038</td>\n",
       "      <td>217</td>\n",
       "    </tr>\n",
       "    <tr>\n",
       "      <th>1538</th>\n",
       "      <td>1995-04-01</td>\n",
       "      <td>Reading</td>\n",
       "      <td>E06000038</td>\n",
       "      <td>153</td>\n",
       "    </tr>\n",
       "    <tr>\n",
       "      <th>1967</th>\n",
       "      <td>1995-05-01</td>\n",
       "      <td>Reading</td>\n",
       "      <td>E06000038</td>\n",
       "      <td>232</td>\n",
       "    </tr>\n",
       "  </tbody>\n",
       "</table>\n",
       "</div>"
      ],
      "text/plain": [
       "            Date Region_Name  Area_Code  Sales_Volume\n",
       "380   1995-01-01     Reading  E06000038           137\n",
       "719   1995-02-01     Reading  E06000038           161\n",
       "1169  1995-03-01     Reading  E06000038           217\n",
       "1538  1995-04-01     Reading  E06000038           153\n",
       "1967  1995-05-01     Reading  E06000038           232"
      ]
     },
     "execution_count": 21,
     "metadata": {},
     "output_type": "execute_result"
    }
   ],
   "source": [
    "df_R.head()"
   ]
  },
  {
   "cell_type": "markdown",
   "metadata": {},
   "source": [
    "Create two more columns for Year and Month"
   ]
  },
  {
   "cell_type": "code",
   "execution_count": 30,
   "metadata": {},
   "outputs": [
    {
     "name": "stderr",
     "output_type": "stream",
     "text": [
      "C:\\Users\\koustoud\\AppData\\Local\\Continuum\\anaconda2\\lib\\site-packages\\ipykernel_launcher.py:1: SettingWithCopyWarning: \n",
      "A value is trying to be set on a copy of a slice from a DataFrame.\n",
      "Try using .loc[row_indexer,col_indexer] = value instead\n",
      "\n",
      "See the caveats in the documentation: http://pandas.pydata.org/pandas-docs/stable/indexing.html#indexing-view-versus-copy\n",
      "  \"\"\"Entry point for launching an IPython kernel.\n"
     ]
    }
   ],
   "source": [
    "df_R['Year']=df_R['Date'].str.slice(0,4)\n",
    "\n",
    "#ignore any warnings"
   ]
  },
  {
   "cell_type": "code",
   "execution_count": 34,
   "metadata": {},
   "outputs": [
    {
     "name": "stderr",
     "output_type": "stream",
     "text": [
      "C:\\Users\\koustoud\\AppData\\Local\\Continuum\\anaconda2\\lib\\site-packages\\ipykernel_launcher.py:2: SettingWithCopyWarning: \n",
      "A value is trying to be set on a copy of a slice from a DataFrame.\n",
      "Try using .loc[row_indexer,col_indexer] = value instead\n",
      "\n",
      "See the caveats in the documentation: http://pandas.pydata.org/pandas-docs/stable/indexing.html#indexing-view-versus-copy\n",
      "  \n"
     ]
    }
   ],
   "source": [
    "#A different approach using apply() method and a lambda function:\n",
    "df_R['Month'] = df_R['Date'].apply(lambda s:s.split('-')[1])"
   ]
  },
  {
   "cell_type": "code",
   "execution_count": 35,
   "metadata": {},
   "outputs": [
    {
     "data": {
      "text/html": [
       "<div>\n",
       "<style>\n",
       "    .dataframe thead tr:only-child th {\n",
       "        text-align: right;\n",
       "    }\n",
       "\n",
       "    .dataframe thead th {\n",
       "        text-align: left;\n",
       "    }\n",
       "\n",
       "    .dataframe tbody tr th {\n",
       "        vertical-align: top;\n",
       "    }\n",
       "</style>\n",
       "<table border=\"1\" class=\"dataframe\">\n",
       "  <thead>\n",
       "    <tr style=\"text-align: right;\">\n",
       "      <th></th>\n",
       "      <th>Date</th>\n",
       "      <th>Region_Name</th>\n",
       "      <th>Area_Code</th>\n",
       "      <th>Sales_Volume</th>\n",
       "      <th>Year</th>\n",
       "      <th>Month</th>\n",
       "    </tr>\n",
       "  </thead>\n",
       "  <tbody>\n",
       "    <tr>\n",
       "      <th>113786</th>\n",
       "      <td>2017-06-01</td>\n",
       "      <td>Reading</td>\n",
       "      <td>E06000038</td>\n",
       "      <td>231</td>\n",
       "      <td>2017</td>\n",
       "      <td>06</td>\n",
       "    </tr>\n",
       "    <tr>\n",
       "      <th>114237</th>\n",
       "      <td>2017-07-01</td>\n",
       "      <td>Reading</td>\n",
       "      <td>E06000038</td>\n",
       "      <td>204</td>\n",
       "      <td>2017</td>\n",
       "      <td>07</td>\n",
       "    </tr>\n",
       "    <tr>\n",
       "      <th>114675</th>\n",
       "      <td>2017-08-01</td>\n",
       "      <td>Reading</td>\n",
       "      <td>E06000038</td>\n",
       "      <td>215</td>\n",
       "      <td>2017</td>\n",
       "      <td>08</td>\n",
       "    </tr>\n",
       "    <tr>\n",
       "      <th>115136</th>\n",
       "      <td>2017-09-01</td>\n",
       "      <td>Reading</td>\n",
       "      <td>E06000038</td>\n",
       "      <td>173</td>\n",
       "      <td>2017</td>\n",
       "      <td>09</td>\n",
       "    </tr>\n",
       "    <tr>\n",
       "      <th>115556</th>\n",
       "      <td>2017-10-01</td>\n",
       "      <td>Reading</td>\n",
       "      <td>E06000038</td>\n",
       "      <td>173</td>\n",
       "      <td>2017</td>\n",
       "      <td>10</td>\n",
       "    </tr>\n",
       "  </tbody>\n",
       "</table>\n",
       "</div>"
      ],
      "text/plain": [
       "              Date Region_Name  Area_Code  Sales_Volume  Year Month\n",
       "113786  2017-06-01     Reading  E06000038           231  2017    06\n",
       "114237  2017-07-01     Reading  E06000038           204  2017    07\n",
       "114675  2017-08-01     Reading  E06000038           215  2017    08\n",
       "115136  2017-09-01     Reading  E06000038           173  2017    09\n",
       "115556  2017-10-01     Reading  E06000038           173  2017    10"
      ]
     },
     "execution_count": 35,
     "metadata": {},
     "output_type": "execute_result"
    }
   ],
   "source": [
    "df_R.tail()"
   ]
  },
  {
   "cell_type": "markdown",
   "metadata": {},
   "source": [
    "Create a Pivot Table with 'Month' as rows, 'Year' as columns and 'Sales_Volume' as data"
   ]
  },
  {
   "cell_type": "code",
   "execution_count": 36,
   "metadata": {
    "collapsed": true
   },
   "outputs": [],
   "source": [
    "pivot = df_R.pivot_table(values='Sales_Volume' , index='Month', columns='Year')"
   ]
  },
  {
   "cell_type": "code",
   "execution_count": 37,
   "metadata": {},
   "outputs": [
    {
     "data": {
      "text/html": [
       "<div>\n",
       "<style>\n",
       "    .dataframe thead tr:only-child th {\n",
       "        text-align: right;\n",
       "    }\n",
       "\n",
       "    .dataframe thead th {\n",
       "        text-align: left;\n",
       "    }\n",
       "\n",
       "    .dataframe tbody tr th {\n",
       "        vertical-align: top;\n",
       "    }\n",
       "</style>\n",
       "<table border=\"1\" class=\"dataframe\">\n",
       "  <thead>\n",
       "    <tr style=\"text-align: right;\">\n",
       "      <th>Year</th>\n",
       "      <th>1995</th>\n",
       "      <th>1996</th>\n",
       "      <th>1997</th>\n",
       "      <th>1998</th>\n",
       "      <th>1999</th>\n",
       "      <th>2000</th>\n",
       "      <th>2001</th>\n",
       "      <th>2002</th>\n",
       "      <th>2003</th>\n",
       "      <th>2004</th>\n",
       "      <th>...</th>\n",
       "      <th>2008</th>\n",
       "      <th>2009</th>\n",
       "      <th>2010</th>\n",
       "      <th>2011</th>\n",
       "      <th>2012</th>\n",
       "      <th>2013</th>\n",
       "      <th>2014</th>\n",
       "      <th>2015</th>\n",
       "      <th>2016</th>\n",
       "      <th>2017</th>\n",
       "    </tr>\n",
       "    <tr>\n",
       "      <th>Month</th>\n",
       "      <th></th>\n",
       "      <th></th>\n",
       "      <th></th>\n",
       "      <th></th>\n",
       "      <th></th>\n",
       "      <th></th>\n",
       "      <th></th>\n",
       "      <th></th>\n",
       "      <th></th>\n",
       "      <th></th>\n",
       "      <th></th>\n",
       "      <th></th>\n",
       "      <th></th>\n",
       "      <th></th>\n",
       "      <th></th>\n",
       "      <th></th>\n",
       "      <th></th>\n",
       "      <th></th>\n",
       "      <th></th>\n",
       "      <th></th>\n",
       "      <th></th>\n",
       "    </tr>\n",
       "  </thead>\n",
       "  <tbody>\n",
       "    <tr>\n",
       "      <th>01</th>\n",
       "      <td>137.0</td>\n",
       "      <td>151.0</td>\n",
       "      <td>210.0</td>\n",
       "      <td>222.0</td>\n",
       "      <td>234.0</td>\n",
       "      <td>226.0</td>\n",
       "      <td>261.0</td>\n",
       "      <td>250.0</td>\n",
       "      <td>250.0</td>\n",
       "      <td>301.0</td>\n",
       "      <td>...</td>\n",
       "      <td>228.0</td>\n",
       "      <td>86.0</td>\n",
       "      <td>109.0</td>\n",
       "      <td>132.0</td>\n",
       "      <td>157.0</td>\n",
       "      <td>167.0</td>\n",
       "      <td>252.0</td>\n",
       "      <td>195.0</td>\n",
       "      <td>188.0</td>\n",
       "      <td>194.0</td>\n",
       "    </tr>\n",
       "    <tr>\n",
       "      <th>02</th>\n",
       "      <td>161.0</td>\n",
       "      <td>164.0</td>\n",
       "      <td>248.0</td>\n",
       "      <td>217.0</td>\n",
       "      <td>220.0</td>\n",
       "      <td>294.0</td>\n",
       "      <td>259.0</td>\n",
       "      <td>242.0</td>\n",
       "      <td>255.0</td>\n",
       "      <td>272.0</td>\n",
       "      <td>...</td>\n",
       "      <td>217.0</td>\n",
       "      <td>93.0</td>\n",
       "      <td>140.0</td>\n",
       "      <td>119.0</td>\n",
       "      <td>141.0</td>\n",
       "      <td>164.0</td>\n",
       "      <td>183.0</td>\n",
       "      <td>228.0</td>\n",
       "      <td>225.0</td>\n",
       "      <td>188.0</td>\n",
       "    </tr>\n",
       "    <tr>\n",
       "      <th>03</th>\n",
       "      <td>217.0</td>\n",
       "      <td>244.0</td>\n",
       "      <td>279.0</td>\n",
       "      <td>280.0</td>\n",
       "      <td>343.0</td>\n",
       "      <td>316.0</td>\n",
       "      <td>299.0</td>\n",
       "      <td>329.0</td>\n",
       "      <td>240.0</td>\n",
       "      <td>301.0</td>\n",
       "      <td>...</td>\n",
       "      <td>191.0</td>\n",
       "      <td>138.0</td>\n",
       "      <td>152.0</td>\n",
       "      <td>146.0</td>\n",
       "      <td>244.0</td>\n",
       "      <td>182.0</td>\n",
       "      <td>196.0</td>\n",
       "      <td>239.0</td>\n",
       "      <td>461.0</td>\n",
       "      <td>204.0</td>\n",
       "    </tr>\n",
       "    <tr>\n",
       "      <th>04</th>\n",
       "      <td>153.0</td>\n",
       "      <td>203.0</td>\n",
       "      <td>269.0</td>\n",
       "      <td>268.0</td>\n",
       "      <td>310.0</td>\n",
       "      <td>318.0</td>\n",
       "      <td>321.0</td>\n",
       "      <td>306.0</td>\n",
       "      <td>246.0</td>\n",
       "      <td>366.0</td>\n",
       "      <td>...</td>\n",
       "      <td>238.0</td>\n",
       "      <td>143.0</td>\n",
       "      <td>187.0</td>\n",
       "      <td>152.0</td>\n",
       "      <td>102.0</td>\n",
       "      <td>185.0</td>\n",
       "      <td>221.0</td>\n",
       "      <td>250.0</td>\n",
       "      <td>194.0</td>\n",
       "      <td>154.0</td>\n",
       "    </tr>\n",
       "    <tr>\n",
       "      <th>05</th>\n",
       "      <td>232.0</td>\n",
       "      <td>251.0</td>\n",
       "      <td>290.0</td>\n",
       "      <td>298.0</td>\n",
       "      <td>303.0</td>\n",
       "      <td>326.0</td>\n",
       "      <td>362.0</td>\n",
       "      <td>412.0</td>\n",
       "      <td>287.0</td>\n",
       "      <td>358.0</td>\n",
       "      <td>...</td>\n",
       "      <td>205.0</td>\n",
       "      <td>147.0</td>\n",
       "      <td>140.0</td>\n",
       "      <td>137.0</td>\n",
       "      <td>149.0</td>\n",
       "      <td>220.0</td>\n",
       "      <td>240.0</td>\n",
       "      <td>305.0</td>\n",
       "      <td>155.0</td>\n",
       "      <td>161.0</td>\n",
       "    </tr>\n",
       "    <tr>\n",
       "      <th>06</th>\n",
       "      <td>209.0</td>\n",
       "      <td>281.0</td>\n",
       "      <td>324.0</td>\n",
       "      <td>306.0</td>\n",
       "      <td>356.0</td>\n",
       "      <td>396.0</td>\n",
       "      <td>361.0</td>\n",
       "      <td>347.0</td>\n",
       "      <td>296.0</td>\n",
       "      <td>394.0</td>\n",
       "      <td>...</td>\n",
       "      <td>203.0</td>\n",
       "      <td>217.0</td>\n",
       "      <td>200.0</td>\n",
       "      <td>164.0</td>\n",
       "      <td>146.0</td>\n",
       "      <td>240.0</td>\n",
       "      <td>251.0</td>\n",
       "      <td>254.0</td>\n",
       "      <td>261.0</td>\n",
       "      <td>231.0</td>\n",
       "    </tr>\n",
       "    <tr>\n",
       "      <th>07</th>\n",
       "      <td>241.0</td>\n",
       "      <td>290.0</td>\n",
       "      <td>312.0</td>\n",
       "      <td>374.0</td>\n",
       "      <td>463.0</td>\n",
       "      <td>329.0</td>\n",
       "      <td>401.0</td>\n",
       "      <td>428.0</td>\n",
       "      <td>358.0</td>\n",
       "      <td>455.0</td>\n",
       "      <td>...</td>\n",
       "      <td>136.0</td>\n",
       "      <td>217.0</td>\n",
       "      <td>206.0</td>\n",
       "      <td>259.0</td>\n",
       "      <td>186.0</td>\n",
       "      <td>239.0</td>\n",
       "      <td>262.0</td>\n",
       "      <td>285.0</td>\n",
       "      <td>291.0</td>\n",
       "      <td>204.0</td>\n",
       "    </tr>\n",
       "    <tr>\n",
       "      <th>08</th>\n",
       "      <td>244.0</td>\n",
       "      <td>345.0</td>\n",
       "      <td>343.0</td>\n",
       "      <td>366.0</td>\n",
       "      <td>303.0</td>\n",
       "      <td>297.0</td>\n",
       "      <td>393.0</td>\n",
       "      <td>398.0</td>\n",
       "      <td>357.0</td>\n",
       "      <td>359.0</td>\n",
       "      <td>...</td>\n",
       "      <td>160.0</td>\n",
       "      <td>199.0</td>\n",
       "      <td>204.0</td>\n",
       "      <td>200.0</td>\n",
       "      <td>222.0</td>\n",
       "      <td>297.0</td>\n",
       "      <td>313.0</td>\n",
       "      <td>288.0</td>\n",
       "      <td>255.0</td>\n",
       "      <td>215.0</td>\n",
       "    </tr>\n",
       "    <tr>\n",
       "      <th>09</th>\n",
       "      <td>223.0</td>\n",
       "      <td>311.0</td>\n",
       "      <td>359.0</td>\n",
       "      <td>334.0</td>\n",
       "      <td>360.0</td>\n",
       "      <td>279.0</td>\n",
       "      <td>279.0</td>\n",
       "      <td>304.0</td>\n",
       "      <td>331.0</td>\n",
       "      <td>364.0</td>\n",
       "      <td>...</td>\n",
       "      <td>136.0</td>\n",
       "      <td>237.0</td>\n",
       "      <td>200.0</td>\n",
       "      <td>185.0</td>\n",
       "      <td>168.0</td>\n",
       "      <td>267.0</td>\n",
       "      <td>257.0</td>\n",
       "      <td>259.0</td>\n",
       "      <td>213.0</td>\n",
       "      <td>173.0</td>\n",
       "    </tr>\n",
       "    <tr>\n",
       "      <th>10</th>\n",
       "      <td>182.0</td>\n",
       "      <td>286.0</td>\n",
       "      <td>350.0</td>\n",
       "      <td>340.0</td>\n",
       "      <td>383.0</td>\n",
       "      <td>243.0</td>\n",
       "      <td>342.0</td>\n",
       "      <td>318.0</td>\n",
       "      <td>398.0</td>\n",
       "      <td>331.0</td>\n",
       "      <td>...</td>\n",
       "      <td>146.0</td>\n",
       "      <td>230.0</td>\n",
       "      <td>187.0</td>\n",
       "      <td>169.0</td>\n",
       "      <td>214.0</td>\n",
       "      <td>253.0</td>\n",
       "      <td>282.0</td>\n",
       "      <td>281.0</td>\n",
       "      <td>201.0</td>\n",
       "      <td>173.0</td>\n",
       "    </tr>\n",
       "    <tr>\n",
       "      <th>11</th>\n",
       "      <td>206.0</td>\n",
       "      <td>280.0</td>\n",
       "      <td>270.0</td>\n",
       "      <td>293.0</td>\n",
       "      <td>354.0</td>\n",
       "      <td>244.0</td>\n",
       "      <td>355.0</td>\n",
       "      <td>319.0</td>\n",
       "      <td>273.0</td>\n",
       "      <td>320.0</td>\n",
       "      <td>...</td>\n",
       "      <td>94.0</td>\n",
       "      <td>190.0</td>\n",
       "      <td>164.0</td>\n",
       "      <td>161.0</td>\n",
       "      <td>198.0</td>\n",
       "      <td>262.0</td>\n",
       "      <td>237.0</td>\n",
       "      <td>243.0</td>\n",
       "      <td>184.0</td>\n",
       "      <td>NaN</td>\n",
       "    </tr>\n",
       "    <tr>\n",
       "      <th>12</th>\n",
       "      <td>196.0</td>\n",
       "      <td>303.0</td>\n",
       "      <td>284.0</td>\n",
       "      <td>316.0</td>\n",
       "      <td>366.0</td>\n",
       "      <td>291.0</td>\n",
       "      <td>292.0</td>\n",
       "      <td>303.0</td>\n",
       "      <td>354.0</td>\n",
       "      <td>307.0</td>\n",
       "      <td>...</td>\n",
       "      <td>134.0</td>\n",
       "      <td>298.0</td>\n",
       "      <td>158.0</td>\n",
       "      <td>199.0</td>\n",
       "      <td>204.0</td>\n",
       "      <td>261.0</td>\n",
       "      <td>276.0</td>\n",
       "      <td>227.0</td>\n",
       "      <td>214.0</td>\n",
       "      <td>NaN</td>\n",
       "    </tr>\n",
       "  </tbody>\n",
       "</table>\n",
       "<p>12 rows × 23 columns</p>\n",
       "</div>"
      ],
      "text/plain": [
       "Year    1995   1996   1997   1998   1999   2000   2001   2002   2003   2004  \\\n",
       "Month                                                                         \n",
       "01     137.0  151.0  210.0  222.0  234.0  226.0  261.0  250.0  250.0  301.0   \n",
       "02     161.0  164.0  248.0  217.0  220.0  294.0  259.0  242.0  255.0  272.0   \n",
       "03     217.0  244.0  279.0  280.0  343.0  316.0  299.0  329.0  240.0  301.0   \n",
       "04     153.0  203.0  269.0  268.0  310.0  318.0  321.0  306.0  246.0  366.0   \n",
       "05     232.0  251.0  290.0  298.0  303.0  326.0  362.0  412.0  287.0  358.0   \n",
       "06     209.0  281.0  324.0  306.0  356.0  396.0  361.0  347.0  296.0  394.0   \n",
       "07     241.0  290.0  312.0  374.0  463.0  329.0  401.0  428.0  358.0  455.0   \n",
       "08     244.0  345.0  343.0  366.0  303.0  297.0  393.0  398.0  357.0  359.0   \n",
       "09     223.0  311.0  359.0  334.0  360.0  279.0  279.0  304.0  331.0  364.0   \n",
       "10     182.0  286.0  350.0  340.0  383.0  243.0  342.0  318.0  398.0  331.0   \n",
       "11     206.0  280.0  270.0  293.0  354.0  244.0  355.0  319.0  273.0  320.0   \n",
       "12     196.0  303.0  284.0  316.0  366.0  291.0  292.0  303.0  354.0  307.0   \n",
       "\n",
       "Year   ...     2008   2009   2010   2011   2012   2013   2014   2015   2016  \\\n",
       "Month  ...                                                                    \n",
       "01     ...    228.0   86.0  109.0  132.0  157.0  167.0  252.0  195.0  188.0   \n",
       "02     ...    217.0   93.0  140.0  119.0  141.0  164.0  183.0  228.0  225.0   \n",
       "03     ...    191.0  138.0  152.0  146.0  244.0  182.0  196.0  239.0  461.0   \n",
       "04     ...    238.0  143.0  187.0  152.0  102.0  185.0  221.0  250.0  194.0   \n",
       "05     ...    205.0  147.0  140.0  137.0  149.0  220.0  240.0  305.0  155.0   \n",
       "06     ...    203.0  217.0  200.0  164.0  146.0  240.0  251.0  254.0  261.0   \n",
       "07     ...    136.0  217.0  206.0  259.0  186.0  239.0  262.0  285.0  291.0   \n",
       "08     ...    160.0  199.0  204.0  200.0  222.0  297.0  313.0  288.0  255.0   \n",
       "09     ...    136.0  237.0  200.0  185.0  168.0  267.0  257.0  259.0  213.0   \n",
       "10     ...    146.0  230.0  187.0  169.0  214.0  253.0  282.0  281.0  201.0   \n",
       "11     ...     94.0  190.0  164.0  161.0  198.0  262.0  237.0  243.0  184.0   \n",
       "12     ...    134.0  298.0  158.0  199.0  204.0  261.0  276.0  227.0  214.0   \n",
       "\n",
       "Year    2017  \n",
       "Month         \n",
       "01     194.0  \n",
       "02     188.0  \n",
       "03     204.0  \n",
       "04     154.0  \n",
       "05     161.0  \n",
       "06     231.0  \n",
       "07     204.0  \n",
       "08     215.0  \n",
       "09     173.0  \n",
       "10     173.0  \n",
       "11       NaN  \n",
       "12       NaN  \n",
       "\n",
       "[12 rows x 23 columns]"
      ]
     },
     "execution_count": 37,
     "metadata": {},
     "output_type": "execute_result"
    }
   ],
   "source": [
    "pivot"
   ]
  },
  {
   "cell_type": "markdown",
   "metadata": {},
   "source": [
    "Create a Heatmap for the Sales_Volume of Reading during the months of years 1995-2017 (the previous pivot table).\n",
    "For heatmaps the data needs to be in a \"matrix\" form and by this I mean there must be variables not only in columns but in rows as well. That is why we created the pivot table."
   ]
  },
  {
   "cell_type": "code",
   "execution_count": 40,
   "metadata": {},
   "outputs": [
    {
     "data": {
      "text/plain": [
       "<matplotlib.axes._subplots.AxesSubplot at 0xb324ac8>"
      ]
     },
     "execution_count": 40,
     "metadata": {},
     "output_type": "execute_result"
    },
    {
     "data": {
      "image/png": "[encoded data removed]",
      "text/plain": [
       "<matplotlib.figure.Figure at 0xee97ef0>"
      ]
     },
     "metadata": {},
     "output_type": "display_data"
    }
   ],
   "source": [
    "sns.heatmap(data=pivot, cmap='coolwarm')"
   ]
  },
  {
   "cell_type": "markdown",
   "metadata": {},
   "source": [
    "Let's make the graph bigger"
   ]
  },
  {
   "cell_type": "code",
   "execution_count": 49,
   "metadata": {},
   "outputs": [
    {
     "data": {
      "text/plain": [
       "<matplotlib.axes._subplots.AxesSubplot at 0xe3ca470>"
      ]
     },
     "execution_count": 49,
     "metadata": {},
     "output_type": "execute_result"
    },
    {
     "data": {
      "image/png": "[encoded data removed]",
      "text/plain": [
       "<matplotlib.figure.Figure at 0xe49c9b0>"
      ]
     },
     "metadata": {},
     "output_type": "display_data"
    }
   ],
   "source": [
    "import matplotlib.pyplot as plt\n",
    "import seaborn as sns\n",
    "%matplotlib inline\n",
    "\n",
    "fig, ax = plt.subplots()\n",
    "fig.set_size_inches(12,5)\n",
    "ax.set_title ='Properties Sales Volume in Reading, UK'\n",
    "\n",
    "sns.heatmap(data=pivot, cmap='coolwarm')"
   ]
  },
  {
   "cell_type": "markdown",
   "metadata": {},
   "source": [
    "Properties Sales Volume in Reading, UK"
   ]
  },
  {
   "cell_type": "code",
   "execution_count": 52,
   "metadata": {
    "collapsed": true
   },
   "outputs": [],
   "source": [
    "fig.savefig('Reading_Sales_Volume2.png', dpi=600)"
   ]
  },
  {
   "cell_type": "code",
   "execution_count": null,
   "metadata": {
    "collapsed": true
   },
   "outputs": [],
   "source": []
  }
 ],
 "metadata": {
  "kernelspec": {
   "display_name": "Python 2",
   "language": "python",
   "name": "python2"
  },
  "language_info": {
   "codemirror_mode": {
    "name": "ipython",
    "version": 2
   },
   "file_extension": ".py",
   "mimetype": "text/x-python",
   "name": "python",
   "nbconvert_exporter": "python",
   "pygments_lexer": "ipython2",
   "version": "2.7.14"
  }
 },
 "nbformat": 4,
 "nbformat_minor": 2
}
